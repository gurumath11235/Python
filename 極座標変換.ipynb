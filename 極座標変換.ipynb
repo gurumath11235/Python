{
 "cells": [
  {
   "cell_type": "markdown",
   "metadata": {},
   "source": [
    "直交座標平面上に描かれた図形または曲線を，極座標平面上の図形に変換する様子を動きで見るプログラムです．<br><br>\n",
    "＊＊＊内の9つのセルは，いずれか1つを選んで実行してください．"
   ]
  },
  {
   "cell_type": "code",
   "execution_count": 1,
   "metadata": {},
   "outputs": [],
   "source": [
    "import matplotlib.pyplot as plt"
   ]
  },
  {
   "cell_type": "code",
   "execution_count": 2,
   "metadata": {},
   "outputs": [],
   "source": [
    "import numpy as np"
   ]
  },
  {
   "cell_type": "markdown",
   "metadata": {},
   "source": [
    "＊＊＊"
   ]
  },
  {
   "cell_type": "code",
   "execution_count": 3,
   "metadata": {},
   "outputs": [],
   "source": [
    "# 長方形→ドーナツ形\n",
    "a = []\n",
    "b = []\n",
    "for i in range(126):\n",
    "    for j in range(30):\n",
    "        x = 0.1 * j + 1\n",
    "        y = 0.05 * i\n",
    "        a.append(x)\n",
    "        b.append(y)\n",
    "\n",
    "ax = np.array(a)\n",
    "ay = np.array(b)"
   ]
  },
  {
   "cell_type": "code",
   "execution_count": 4,
   "metadata": {},
   "outputs": [],
   "source": [
    "# 長方形→扇形\n",
    "a = []\n",
    "b = []\n",
    "for i in range(32):\n",
    "    for j in range(50):\n",
    "        x = 0.1 * j\n",
    "        y = 0.05 * i + np.pi\n",
    "        a.append(x)\n",
    "        b.append(y)\n",
    "\n",
    "ax = np.array(a)\n",
    "ay = np.array(b)"
   ]
  },
  {
   "cell_type": "code",
   "execution_count": 5,
   "metadata": {},
   "outputs": [],
   "source": [
    "# 直角三角形→アンモナイト形\n",
    "a = []\n",
    "b = []\n",
    "for i in range(126):\n",
    "    for j in range(30 - 30 * i // 126):\n",
    "        x = 0.1 * j + 1\n",
    "        y = 0.05 * i\n",
    "        a.append(x)\n",
    "        b.append(y)\n",
    "\n",
    "ax = np.array(a)\n",
    "ay = np.array(b)"
   ]
  },
  {
   "cell_type": "code",
   "execution_count": 6,
   "metadata": {},
   "outputs": [],
   "source": [
    "# 二等辺三角形→ハート形\n",
    "a = []\n",
    "b = []\n",
    "for i in range(126):\n",
    "    for j in range(30 - 30 * abs(63 - i) // 63):\n",
    "        x = 0.1 * j\n",
    "        y = 0.05 * i\n",
    "        a.append(x)\n",
    "        b.append(y)\n",
    "\n",
    "ax = np.array(a)\n",
    "ay = np.array(b)"
   ]
  },
  {
   "cell_type": "code",
   "execution_count": 7,
   "metadata": {},
   "outputs": [],
   "source": [
    "# sinカーブ→円\n",
    "ay = np.linspace(0, np.pi, 300)\n",
    "ax = np.sin(ay) * 4"
   ]
  },
  {
   "cell_type": "code",
   "execution_count": 8,
   "metadata": {},
   "outputs": [],
   "source": [
    "# cosカーブ→円\n",
    "ay = np.linspace(0, np.pi, 300)\n",
    "ax = np.cos(ay) * 4"
   ]
  },
  {
   "cell_type": "code",
   "execution_count": 9,
   "metadata": {},
   "outputs": [],
   "source": [
    "# 三角関数→放物線\n",
    "ay = np.linspace(0, np.pi, 900)\n",
    "ax = np.sin(ay) / np.cos(ay) ** 2"
   ]
  },
  {
   "cell_type": "code",
   "execution_count": 10,
   "metadata": {},
   "outputs": [],
   "source": [
    "# 三角関数→楕円\n",
    "ay = np.linspace(0, 2 * np.pi, 600)\n",
    "ax = 2 / (np.cos(ay) * 0.5 + 1 )"
   ]
  },
  {
   "cell_type": "code",
   "execution_count": 11,
   "metadata": {},
   "outputs": [],
   "source": [
    "# 三角関数→双曲線\n",
    "ay = np.linspace(0, 2 * np.pi, 1200)\n",
    "ax = 2 / (np.cos(ay) * 1.5 + 1 )"
   ]
  },
  {
   "cell_type": "markdown",
   "metadata": {},
   "source": [
    "＊＊＊"
   ]
  },
  {
   "cell_type": "code",
   "execution_count": 12,
   "metadata": {},
   "outputs": [
    {
     "name": "stdout",
     "output_type": "stream",
     "text": [
      "Using matplotlib backend: Qt5Agg\n"
     ]
    }
   ],
   "source": [
    "%matplotlib\n",
    "\n",
    "bx = np.linspace(0,15,750)\n",
    "by = 0 * bx + np.pi / 2\n",
    "cy = 0 * bx + np.pi * 3 / 2\n",
    "\n",
    "for i in range(120):\n",
    "    if i <= 10 :\n",
    "        x = ax\n",
    "        y = ay\n",
    "        x0 = bx\n",
    "        y0 = by\n",
    "        x1 = bx\n",
    "        y1 = cy\n",
    "    elif i <= 40 :\n",
    "        x = ax\n",
    "        y = ay * ((40 - i) / 30)\n",
    "        x0 = bx\n",
    "        y0 = by * ((40 - i) / 30)\n",
    "        x1 = bx\n",
    "        y1 = cy * ((40 - i) / 30)\n",
    "    elif i <= 100 :\n",
    "        x = ax * np.cos( ((i-40) / 60) * ay)\n",
    "        y = ax * np.sin( ((i-40) / 60) * ay)\n",
    "        x0 = bx * np.cos( ((i-40) / 60) * by)\n",
    "        y0 = bx * np.sin( ((i-40) / 60) * by)\n",
    "        x1 = bx * np.cos( ((i-40) / 60) * cy)\n",
    "        y1 = bx * np.sin( ((i-40) / 60) * cy)\n",
    "    else :\n",
    "        x = ax * np.cos(ay)\n",
    "        y = ax * np.sin(ay)\n",
    "        x0 = bx * np.cos(by)\n",
    "        y0 = bx * np.sin(by)\n",
    "        x1 = bx * np.cos(cy)\n",
    "        y1 = bx * np.sin(cy)\n",
    "    \n",
    "    plt.axis([-12,12,-8,8])\n",
    "    x2 = np.linspace(-12,12,1200)\n",
    "    y2 = 0 * x2\n",
    "    plt.plot(x2, y2, \"o\", c='gray', ms=0.05, alpha=0.5)\n",
    "    \n",
    "    plt.plot(x0, y0, \"o\", c='gray', ms=0.05, alpha=0.5)\n",
    "    plt.plot(x1, y1, \"o\", c='gray', ms=0.05, alpha=0.5)\n",
    "    plt.plot(x, y, \"o\", c='pink',ms=1)\n",
    "    \n",
    "    plt.xlabel(\"x, r\", c=\"blue\")\n",
    "    plt.ylabel(\"y\",rotation = \"horizontal\", c=\"blue\")\n",
    "    plt.yticks(np.arange(-8,9,4))\n",
    "    plt.twinx()\n",
    "    plt.axis([-12,12,-8,8])\n",
    "    plt.ylabel(\"θ\",rotation = \"horizontal\", c=\"blue\")\n",
    "    plt.yticks(np.arange(-2.5*np.pi, 3*np.pi, np.pi/2),[\"\",\"-2π\",\"\",\"-π\",\"\",\"0\",\"\",\"π\",\"\",\"2π\",\"\"])\n",
    "    \n",
    "    plt.pause(0.05) # 動きの速さを調節できます\n",
    "    plt.show()\n",
    "    plt.clf()"
   ]
  },
  {
   "cell_type": "code",
   "execution_count": null,
   "metadata": {},
   "outputs": [],
   "source": []
  }
 ],
 "metadata": {
  "kernelspec": {
   "display_name": "Python 3",
   "language": "python",
   "name": "python3"
  },
  "language_info": {
   "codemirror_mode": {
    "name": "ipython",
    "version": 3
   },
   "file_extension": ".py",
   "mimetype": "text/x-python",
   "name": "python",
   "nbconvert_exporter": "python",
   "pygments_lexer": "ipython3",
   "version": "3.7.7"
  }
 },
 "nbformat": 4,
 "nbformat_minor": 4
}
